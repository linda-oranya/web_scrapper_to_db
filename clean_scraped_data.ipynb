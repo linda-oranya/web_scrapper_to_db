{
 "cells": [
  {
   "cell_type": "code",
   "execution_count": 55,
   "metadata": {},
   "outputs": [],
   "source": [
    "import pandas as pd\n",
    "import numpy as np"
   ]
  },
  {
   "cell_type": "code",
   "execution_count": 36,
   "metadata": {},
   "outputs": [],
   "source": [
    "df_beauty = pd.read_csv('beauty_data.csv')\n",
    "df_electronics= pd.read_csv('electronics_data.csv')\n",
    "df_home = pd.read_csv('home_data.csv')\n",
    "df_phone = pd.read_csv('phone_data.csv')"
   ]
  },
  {
   "cell_type": "code",
   "execution_count": 57,
   "metadata": {},
   "outputs": [
    {
     "data": {
      "text/html": [
       "<div>\n",
       "<style scoped>\n",
       "    .dataframe tbody tr th:only-of-type {\n",
       "        vertical-align: middle;\n",
       "    }\n",
       "\n",
       "    .dataframe tbody tr th {\n",
       "        vertical-align: top;\n",
       "    }\n",
       "\n",
       "    .dataframe thead th {\n",
       "        text-align: right;\n",
       "    }\n",
       "</style>\n",
       "<table border=\"1\" class=\"dataframe\">\n",
       "  <thead>\n",
       "    <tr style=\"text-align: right;\">\n",
       "      <th></th>\n",
       "      <th>title</th>\n",
       "      <th>price(CAD)</th>\n",
       "      <th>item_url</th>\n",
       "      <th>image_url</th>\n",
       "      <th>category</th>\n",
       "    </tr>\n",
       "  </thead>\n",
       "  <tbody>\n",
       "    <tr>\n",
       "      <th>0</th>\n",
       "      <td>500,000+ High Resolution iOS Icons Pack Mega B...</td>\n",
       "      <td>10.55</td>\n",
       "      <td>https://www.etsy.com/ca/listing/965933491/5000...</td>\n",
       "      <td>https://i.etsystatic.com/25254906/d/il/b2c970/...</td>\n",
       "      <td>phone</td>\n",
       "    </tr>\n",
       "    <tr>\n",
       "      <th>1</th>\n",
       "      <td>Pretty Floral iPhone 12 11 Pro Max case iPhone...</td>\n",
       "      <td>35.17</td>\n",
       "      <td>https://www.etsy.com/ca/listing/877149324/pret...</td>\n",
       "      <td>https://i.etsystatic.com/25509531/c/695/552/53...</td>\n",
       "      <td>phone</td>\n",
       "    </tr>\n",
       "    <tr>\n",
       "      <th>2</th>\n",
       "      <td>Triple Dock Charger, Charging Station, iPhone ...</td>\n",
       "      <td>11.23</td>\n",
       "      <td>https://www.etsy.com/ca/listing/674623756/trip...</td>\n",
       "      <td>https://i.etsystatic.com/13285848/c/796/632/13...</td>\n",
       "      <td>phone</td>\n",
       "    </tr>\n",
       "    <tr>\n",
       "      <th>3</th>\n",
       "      <td>Neutral Palette App Icons, iOS 14 Icons Aesthe...</td>\n",
       "      <td>13.22</td>\n",
       "      <td>https://www.etsy.com/ca/listing/926436190/neut...</td>\n",
       "      <td>https://i.etsystatic.com/23113161/c/2000/1589/...</td>\n",
       "      <td>phone</td>\n",
       "    </tr>\n",
       "    <tr>\n",
       "      <th>4</th>\n",
       "      <td>WandaVision Case Collection | Marvel studios |...</td>\n",
       "      <td>102.97</td>\n",
       "      <td>https://www.etsy.com/ca/listing/975490459/wand...</td>\n",
       "      <td>https://i.etsystatic.com/26205777/d/il/29f932/...</td>\n",
       "      <td>phone</td>\n",
       "    </tr>\n",
       "    <tr>\n",
       "      <th>...</th>\n",
       "      <td>...</td>\n",
       "      <td>...</td>\n",
       "      <td>...</td>\n",
       "      <td>...</td>\n",
       "      <td>...</td>\n",
       "    </tr>\n",
       "    <tr>\n",
       "      <th>1867</th>\n",
       "      <td>5 PCS Sticker Pack (VSCO LARGE Pack C) Cute St...</td>\n",
       "      <td>27.36</td>\n",
       "      <td>https://www.etsy.com/ca/listing/696832136/vint...</td>\n",
       "      <td>https://i.etsystatic.com/16444362/d/il/bd5dea/...</td>\n",
       "      <td>phone</td>\n",
       "    </tr>\n",
       "    <tr>\n",
       "      <th>1868</th>\n",
       "      <td>5 PCS Sticker Pack (Animal LARGE Pack 4) Cute ...</td>\n",
       "      <td>24.99</td>\n",
       "      <td>https://www.etsy.com/ca/listing/808688916/whip...</td>\n",
       "      <td>https://i.etsystatic.com/16444362/d/il/5b7eaa/...</td>\n",
       "      <td>phone</td>\n",
       "    </tr>\n",
       "    <tr>\n",
       "      <th>1869</th>\n",
       "      <td>5 PCS Sticker Pack (VSCO LARGE Pack A) Cute St...</td>\n",
       "      <td>15.00</td>\n",
       "      <td>https://www.etsy.com/ca/listing/855192592/fren...</td>\n",
       "      <td>https://i.etsystatic.com/16444362/d/il/0b1038/...</td>\n",
       "      <td>phone</td>\n",
       "    </tr>\n",
       "    <tr>\n",
       "      <th>1870</th>\n",
       "      <td>5 PCS Sticker Pack (VSCO LARGE Pack B) Cute St...</td>\n",
       "      <td>3.89</td>\n",
       "      <td>https://www.etsy.com/ca/listing/729964667/2013...</td>\n",
       "      <td>https://i.etsystatic.com/16444362/d/il/97656d/...</td>\n",
       "      <td>phone</td>\n",
       "    </tr>\n",
       "    <tr>\n",
       "      <th>1871</th>\n",
       "      <td>5 PCS Sticker Pack (Travel LARGE Pack 1) Cute ...</td>\n",
       "      <td>19.99</td>\n",
       "      <td>https://www.etsy.com/ca/listing/619650511/goog...</td>\n",
       "      <td>https://i.etsystatic.com/16444362/d/il/3f6721/...</td>\n",
       "      <td>phone</td>\n",
       "    </tr>\n",
       "  </tbody>\n",
       "</table>\n",
       "<p>1872 rows × 5 columns</p>\n",
       "</div>"
      ],
      "text/plain": [
       "                                                  title price(CAD)  \\\n",
       "0     500,000+ High Resolution iOS Icons Pack Mega B...      10.55   \n",
       "1     Pretty Floral iPhone 12 11 Pro Max case iPhone...      35.17   \n",
       "2     Triple Dock Charger, Charging Station, iPhone ...      11.23   \n",
       "3     Neutral Palette App Icons, iOS 14 Icons Aesthe...      13.22   \n",
       "4     WandaVision Case Collection | Marvel studios |...     102.97   \n",
       "...                                                 ...        ...   \n",
       "1867  5 PCS Sticker Pack (VSCO LARGE Pack C) Cute St...      27.36   \n",
       "1868  5 PCS Sticker Pack (Animal LARGE Pack 4) Cute ...      24.99   \n",
       "1869  5 PCS Sticker Pack (VSCO LARGE Pack A) Cute St...      15.00   \n",
       "1870  5 PCS Sticker Pack (VSCO LARGE Pack B) Cute St...       3.89   \n",
       "1871  5 PCS Sticker Pack (Travel LARGE Pack 1) Cute ...      19.99   \n",
       "\n",
       "                                               item_url  \\\n",
       "0     https://www.etsy.com/ca/listing/965933491/5000...   \n",
       "1     https://www.etsy.com/ca/listing/877149324/pret...   \n",
       "2     https://www.etsy.com/ca/listing/674623756/trip...   \n",
       "3     https://www.etsy.com/ca/listing/926436190/neut...   \n",
       "4     https://www.etsy.com/ca/listing/975490459/wand...   \n",
       "...                                                 ...   \n",
       "1867  https://www.etsy.com/ca/listing/696832136/vint...   \n",
       "1868  https://www.etsy.com/ca/listing/808688916/whip...   \n",
       "1869  https://www.etsy.com/ca/listing/855192592/fren...   \n",
       "1870  https://www.etsy.com/ca/listing/729964667/2013...   \n",
       "1871  https://www.etsy.com/ca/listing/619650511/goog...   \n",
       "\n",
       "                                              image_url category  \n",
       "0     https://i.etsystatic.com/25254906/d/il/b2c970/...    phone  \n",
       "1     https://i.etsystatic.com/25509531/c/695/552/53...    phone  \n",
       "2     https://i.etsystatic.com/13285848/c/796/632/13...    phone  \n",
       "3     https://i.etsystatic.com/23113161/c/2000/1589/...    phone  \n",
       "4     https://i.etsystatic.com/26205777/d/il/29f932/...    phone  \n",
       "...                                                 ...      ...  \n",
       "1867  https://i.etsystatic.com/16444362/d/il/bd5dea/...    phone  \n",
       "1868  https://i.etsystatic.com/16444362/d/il/5b7eaa/...    phone  \n",
       "1869  https://i.etsystatic.com/16444362/d/il/0b1038/...    phone  \n",
       "1870  https://i.etsystatic.com/16444362/d/il/97656d/...    phone  \n",
       "1871  https://i.etsystatic.com/16444362/d/il/3f6721/...    phone  \n",
       "\n",
       "[1872 rows x 5 columns]"
      ]
     },
     "execution_count": 57,
     "metadata": {},
     "output_type": "execute_result"
    }
   ],
   "source": [
    "# df_beauty.drop('Unnamed: 0',axis=1,inplace=True)\n",
    "# df_electronics.drop('Unnamed: 0',axis=1,inplace=True)\n",
    "# df_home.drop('Unnamed: 0',axis=1,inplace=True)\n",
    "# df_phone.drop('Unnamed: 0',axis=1,inplace=True)\n",
    "\n",
    "df_phone"
   ]
  },
  {
   "cell_type": "code",
   "execution_count": 41,
   "metadata": {},
   "outputs": [],
   "source": [
    "df_beauty.dropna(inplace=True)\n",
    "df_electronics.dropna(inplace=True)\n",
    "df_home.dropna(inplace=True)\n",
    "df_phone.dropna(inplace=True)"
   ]
  },
  {
   "cell_type": "code",
   "execution_count": 45,
   "metadata": {},
   "outputs": [],
   "source": [
    "df_beauty.rename({'price(CAD)':'price'},axis=1,inplace=True)\n",
    "df_electronics.rename({'price(CAD)':'price'},axis=1,inplace=True)\n",
    "df_home.rename({'price(CAD)':'price'},axis=1,inplace=True)\n",
    "df_phone.rename({'price(CAD)':'price'},axis=1,inplace=True)"
   ]
  },
  {
   "cell_type": "code",
   "execution_count": 52,
   "metadata": {},
   "outputs": [],
   "source": [
    "def data_to_csv(df,filename):\n",
    "    df.to_csv(filename,index=False)"
   ]
  },
  {
   "cell_type": "code",
   "execution_count": 53,
   "metadata": {},
   "outputs": [],
   "source": [
    "data_to_csv(df_beauty,'beauty_data.csv')"
   ]
  },
  {
   "cell_type": "code",
   "execution_count": 54,
   "metadata": {},
   "outputs": [],
   "source": [
    "data_to_csv(df_electronics,'electronics_data.csv')\n",
    "data_to_csv(df_home,'home_data.csv')\n",
    "data_to_csv(df_phone,'phone_data.csv')"
   ]
  }
 ],
 "metadata": {
  "interpreter": {
   "hash": "96da96a43e8caf4c5de2287102d9bd8119e49b09090def16a113bb5d830b38b8"
  },
  "kernelspec": {
   "display_name": "Python 3.8.5 64-bit ('base': conda)",
   "name": "python3"
  },
  "language_info": {
   "codemirror_mode": {
    "name": "ipython",
    "version": 3
   },
   "file_extension": ".py",
   "mimetype": "text/x-python",
   "name": "python",
   "nbconvert_exporter": "python",
   "pygments_lexer": "ipython3",
   "version": "3.8.5"
  },
  "orig_nbformat": 4
 },
 "nbformat": 4,
 "nbformat_minor": 2
}